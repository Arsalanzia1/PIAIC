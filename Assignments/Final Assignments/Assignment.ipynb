{
 "cells": [
  {
   "cell_type": "markdown",
   "metadata": {},
   "source": [
    "Question 1:\n",
    "Write a program to solve a classic ancient Chinese puzzle:\n",
    "We count 35 heads and 94 legs among the chickens and rabbits in a\n",
    "farm. How many rabbits and how many chickens do we have?"
   ]
  },
  {
   "cell_type": "code",
   "execution_count": 8,
   "metadata": {},
   "outputs": [
    {
     "name": "stdout",
     "output_type": "stream",
     "text": [
      "(23, 12)\n"
     ]
    }
   ],
   "source": [
    "def solve(numheads,numlegs):\n",
    "\n",
    "    for i in range(numheads):\n",
    "        j = numheads-i\n",
    "        if (2*i)+(4*j)==numlegs:\n",
    "            return i,j\n",
    "\n",
    "\n",
    "solutions=solve(numheads=35, numlegs=94)\n",
    "print (solutions)"
   ]
  },
  {
   "cell_type": "markdown",
   "metadata": {},
   "source": [
    "Question 2:\n",
    "Please write a program which accepts a string from console and print\n",
    "the characters that have even indexes."
   ]
  },
  {
   "cell_type": "code",
   "execution_count": 17,
   "metadata": {},
   "outputs": [
    {
     "name": "stdout",
     "output_type": "stream",
     "text": [
      "Enter a string: H1e2l3l4o5w6o7r8l9d\n",
      "['H', 'e', 'l', 'l', 'o', 'w', 'o', 'r', 'l', 'd']\n"
     ]
    }
   ],
   "source": [
    "text = input(\"Enter a string: \")\n",
    "alphabet =[]\n",
    "\n",
    "for i in text[::2]:\n",
    "    alphabet.append(i)\n",
    "    \n",
    "\n",
    "print(alphabet)\n",
    "    \n",
    "    \n",
    "    "
   ]
  },
  {
   "cell_type": "code",
   "execution_count": null,
   "metadata": {},
   "outputs": [],
   "source": []
  }
 ],
 "metadata": {
  "kernelspec": {
   "display_name": "Python 3",
   "language": "python",
   "name": "python3"
  },
  "language_info": {
   "codemirror_mode": {
    "name": "ipython",
    "version": 3
   },
   "file_extension": ".py",
   "mimetype": "text/x-python",
   "name": "python",
   "nbconvert_exporter": "python",
   "pygments_lexer": "ipython3",
   "version": "3.7.3"
  }
 },
 "nbformat": 4,
 "nbformat_minor": 2
}

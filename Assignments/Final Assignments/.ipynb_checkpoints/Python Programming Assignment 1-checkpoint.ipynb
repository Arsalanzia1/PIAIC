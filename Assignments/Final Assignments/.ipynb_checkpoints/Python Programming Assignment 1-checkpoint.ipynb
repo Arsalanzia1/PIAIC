{
 "cells": [
  {
   "cell_type": "markdown",
   "metadata": {},
   "source": [
    "1. Calculate Area of a Circle\n",
    "Write a Python program which accepts the radius of a circle from the user and compute the area."
   ]
  },
  {
   "cell_type": "code",
   "execution_count": null,
   "metadata": {},
   "outputs": [],
   "source": [
    "import math\n",
    "radius = input(\"Enter radius of circle: \")\n",
    "area_of_circle = (math.pi) * pow(float(radius), 2)\n",
    "print(\"Input Radius : \" + str(radius) )\n",
    "print(\"Area of Circle with radius \" + radius + \" is \" + str(area_of_circle))"
   ]
  },
  {
   "cell_type": "markdown",
   "metadata": {},
   "source": [
    "2. Check Number either positive, negative or zero\n",
    "Write a Python program to check if a number is positive, negative or zero"
   ]
  },
  {
   "cell_type": "code",
   "execution_count": null,
   "metadata": {},
   "outputs": [],
   "source": [
    "number = int(input(\"Enter any number : \"))\n",
    "if number > 0 :\n",
    "    print(\"Positive Number Entered\")\n",
    "elif number < 0:\n",
    "    print(\"Negative Number Entered\")\n",
    "else:\n",
    "    print(\"Zero Entered\")"
   ]
  },
  {
   "cell_type": "markdown",
   "metadata": {},
   "source": [
    "3. Divisibility Check of two numbers\n",
    "Write a Python program to check whether a number is completely divisible by another number. Accept two integer\n",
    "values form the user"
   ]
  },
  {
   "cell_type": "code",
   "execution_count": 56,
   "metadata": {},
   "outputs": [
    {
     "name": "stdout",
     "output_type": "stream",
     "text": [
      "Enter numerator value : 7\n",
      "Enter denominator value : 4\n",
      "Number 7 is not Completely divisible by 4\n"
     ]
    }
   ],
   "source": [
    "numerator = int(input(\"Enter numerator value : \"))\n",
    "denominator = int(input(\"Enter denominator value : \"))\n",
    "if numerator % denominator == 0:\n",
    "     print(\"Number \"+ str(numerator) +\" is completely divisible by \" + str(denominator))\n",
    "else:\n",
    "    print(\"Number \"+ str(numerator) +\" is not completely divisible by \" + str(denominator))"
   ]
  },
  {
   "cell_type": "markdown",
   "metadata": {},
   "source": [
    "4. Days Calculator\n",
    "Write a Python program to calculate number of days between two dates\n",
    "Program Console Output:\n",
    "Enter a date in (dd/mm/yy) format: 12/12/2018\n",
    "Enter a date in (dd/mm/yy) format: 16/12/2018\n",
    "There are 4 days in between 12/12/2018 and 16/12/18"
   ]
  },
  {
   "cell_type": "code",
   "execution_count": 73,
   "metadata": {},
   "outputs": [
    {
     "name": "stdout",
     "output_type": "stream",
     "text": [
      "Enter a date in (dd/mm/yy) format: 12/02/20\n",
      "Enter a date in (dd/mm/yy) format: 14/02/20\n"
     ]
    },
    {
     "ename": "NameError",
     "evalue": "name 'operator' is not defined",
     "output_type": "error",
     "traceback": [
      "\u001b[1;31m---------------------------------------------------------------------------\u001b[0m",
      "\u001b[1;31mNameError\u001b[0m                                 Traceback (most recent call last)",
      "\u001b[1;32m<ipython-input-73-74d3cee13108>\u001b[0m in \u001b[0;36m<module>\u001b[1;34m\u001b[0m\n\u001b[0;32m      5\u001b[0m \u001b[0md2\u001b[0m \u001b[1;33m=\u001b[0m \u001b[0mdate2\u001b[0m\u001b[1;33m.\u001b[0m\u001b[0msplit\u001b[0m\u001b[1;33m(\u001b[0m\u001b[1;34m\"/\"\u001b[0m\u001b[1;33m)\u001b[0m\u001b[1;33m\u001b[0m\u001b[1;33m\u001b[0m\u001b[0m\n\u001b[0;32m      6\u001b[0m \u001b[1;33m\u001b[0m\u001b[0m\n\u001b[1;32m----> 7\u001b[1;33m \u001b[0mmap_object\u001b[0m \u001b[1;33m=\u001b[0m \u001b[0mmap\u001b[0m\u001b[1;33m(\u001b[0m\u001b[0moperator\u001b[0m\u001b[1;33m.\u001b[0m\u001b[0msub\u001b[0m\u001b[1;33m,\u001b[0m \u001b[0md1\u001b[0m\u001b[1;33m,\u001b[0m \u001b[0md2\u001b[0m\u001b[1;33m)\u001b[0m\u001b[1;33m\u001b[0m\u001b[1;33m\u001b[0m\u001b[0m\n\u001b[0m\u001b[0;32m      8\u001b[0m \u001b[0msubtracted_list\u001b[0m \u001b[1;33m=\u001b[0m \u001b[0mlist\u001b[0m\u001b[1;33m(\u001b[0m\u001b[0mmap_object\u001b[0m\u001b[1;33m)\u001b[0m\u001b[1;33m\u001b[0m\u001b[1;33m\u001b[0m\u001b[0m\n\u001b[0;32m      9\u001b[0m \u001b[0mprint\u001b[0m\u001b[1;33m(\u001b[0m\u001b[0msubtracted_list\u001b[0m\u001b[1;33m)\u001b[0m\u001b[1;33m\u001b[0m\u001b[1;33m\u001b[0m\u001b[0m\n",
      "\u001b[1;31mNameError\u001b[0m: name 'operator' is not defined"
     ]
    }
   ],
   "source": [
    "date1 = input(\"Enter a date in (dd/mm/yy) format: \")\n",
    "date2 = input(\"Enter a date in (dd/mm/yy) format: \")\n",
    "\n",
    "d1 = date1.split(\"/\")\n",
    "d2 = date2.split(\"/\")\n",
    "\n"
   ]
  },
  {
   "cell_type": "markdown",
   "metadata": {},
   "source": [
    "5. Calculate Volume of a sphere\n",
    "Write a Python program to get the volume of a sphere, please take the radius as input from user"
   ]
  },
  {
   "cell_type": "code",
   "execution_count": 59,
   "metadata": {},
   "outputs": [
    {
     "name": "stdout",
     "output_type": "stream",
     "text": [
      "Enter radius of sphere: 1\n",
      "Input Radius : 1\n",
      "Volume of Circle with radius 1 is 4.19\n"
     ]
    }
   ],
   "source": [
    "import math\n",
    "radius = input(\"Enter radius of sphere: \")\n",
    "volume_of_sphere = (4/3) * (math.pi) * pow(float(radius), 3)\n",
    "volume_of_sphere = round(volume_of_sphere , 2)\n",
    "print(\"Input Radius : \" + str(radius) )\n",
    "print(\"Volume of Circle with radius \" + radius + \" is \" + str(volume_of_sphere))"
   ]
  },
  {
   "cell_type": "markdown",
   "metadata": {},
   "source": [
    "6. Copy string n times\n",
    "Write a Python program to get a string which is n (non-negative integer) copies of a given string."
   ]
  },
  {
   "cell_type": "code",
   "execution_count": 62,
   "metadata": {},
   "outputs": [
    {
     "name": "stdout",
     "output_type": "stream",
     "text": [
      "Enter String: Hi\n",
      "How many copies of String you need: 4\n",
      "4 Copies of Hi are HiHiHiHi\n"
     ]
    }
   ],
   "source": [
    "input_string = input(\"Enter String: \")\n",
    "string_copying_value = int(input(\"How many copies of String you need: \"))\n",
    "\n",
    "copies = (input_string * string_copying_value)\n",
    "print(str(string_copying_value) + \" Copies of \" + input_string + \" are \" + copies)"
   ]
  },
  {
   "cell_type": "markdown",
   "metadata": {},
   "source": [
    "7. Check if number is Even or Odd\n",
    "Write a Python program to find whether a given number (accept from the user) is even or odd, print out an\n",
    "appropriate message to the user"
   ]
  },
  {
   "cell_type": "code",
   "execution_count": 68,
   "metadata": {},
   "outputs": [
    {
     "name": "stdout",
     "output_type": "stream",
     "text": [
      "Enter number to check :9\n",
      "9 is Odd\n"
     ]
    }
   ],
   "source": [
    "number = int(input(\"Enter number to check :\"))\n",
    "if number % 2 == 0:\n",
    "    print(str(number) + \" is Even\")\n",
    "else:\n",
    "    print(str(number) + \" is Odd\")"
   ]
  },
  {
   "cell_type": "markdown",
   "metadata": {},
   "source": [
    "8. Vowel Tester\n",
    "Write a Python program to test whether a passed letter is a vowel or not"
   ]
  },
  {
   "cell_type": "code",
   "execution_count": 83,
   "metadata": {},
   "outputs": [
    {
     "name": "stdout",
     "output_type": "stream",
     "text": [
      "Enter letter to check: N\n",
      "Letter N is Not Vowel\n"
     ]
    }
   ],
   "source": [
    "letter_to_check = input(\"Enter letter to check: \")\n",
    "vowel = [\"a\",\"e\",\"i\",\"o\",\"u\"]\n",
    "if letter_to_check.lower() in vowel:\n",
    "    print(\"Letter \" + letter_to_check + \" is Vowel\")\n",
    "else:\n",
    "    print(\"Letter \" + letter_to_check + \" is Not Vowel\")"
   ]
  },
  {
   "cell_type": "markdown",
   "metadata": {},
   "source": [
    "9. Triangle area\n",
    "Write a Python program that will accept the base and height of a triangle and compute the area"
   ]
  },
  {
   "cell_type": "code",
   "execution_count": 89,
   "metadata": {},
   "outputs": [
    {
     "name": "stdout",
     "output_type": "stream",
     "text": [
      "Enter magnitude of Triangle base : 4\n",
      "Enter magnitude of Triangle height : 4\n",
      "Area of Triangle with Height 4 and Base 4 is 8.0\n"
     ]
    }
   ],
   "source": [
    "base = input(\"Enter magnitude of Triangle base : \")\n",
    "height = input(\"Enter magnitude of Triangle height : \")\n",
    "\n",
    "area_of_triangle = (1/2) * float(base) * float(height)\n",
    "\n",
    "print(\"Area of Triangle with Height \" + height + \" and Base \" +  base + \" is \" + str(area_of_triangle))"
   ]
  },
  {
   "cell_type": "markdown",
   "metadata": {},
   "source": [
    "10. Calculate Interest\n",
    "Write a Python program to compute the future value of a specified principal amount, rate of interest, and a number\n",
    "of years"
   ]
  },
  {
   "cell_type": "code",
   "execution_count": 118,
   "metadata": {},
   "outputs": [
    {
     "name": "stdout",
     "output_type": "stream",
     "text": [
      "Please enter principal amount: 10000\n",
      "Please Enter Rate of interest in %: 0.1\n",
      "Enter number of years for investment: 5\n",
      "After 5 years your principal amount 10000 over an interest rate of 0.1 % will be 16105.1\n"
     ]
    }
   ],
   "source": [
    "amount = int(input(\"Please enter principal amount: \"))\n",
    "rate = float(input(\"Please Enter Rate of interest in %: \"))\n",
    "time_period = input(\"Enter number of years for investment: \")\n",
    "\n",
    "i = int(time_period)\n",
    "amount2 = amount\n",
    "while i != 0:\n",
    "    amount1 = amount2 * rate\n",
    "    amount2 = amount2 + amount1\n",
    "    i = i - 1\n",
    "    \n",
    "print(\"After \" + time_period + \" years your principal amount \" + str(amount) + \" over an interest rate of \" +\n",
    "      str(rate) + \" % will be \" + str(amount2))"
   ]
  },
  {
   "cell_type": "markdown",
   "metadata": {},
   "source": [
    "11. Euclidean distance\n",
    "Write a Python program to compute the distance between the points (x1, y1) and (x2, y2)."
   ]
  },
  {
   "cell_type": "code",
   "execution_count": 70,
   "metadata": {},
   "outputs": [
    {
     "name": "stdout",
     "output_type": "stream",
     "text": [
      "Enter Co-ordinate for x1: 2\n",
      "Enter Co-ordinate for y1: 4\n",
      "Enter Co-ordinate for x2: 4\n",
      "Enter Co-ordinate for y2: 4\n",
      "Distance between points (2,4) and (4,4) is 2.0\n"
     ]
    }
   ],
   "source": [
    "import math\n",
    "\n",
    "x1 = input(\"Enter Co-ordinate for x1: \")\n",
    "y1 = input(\"Enter Co-ordinate for y1: \")\n",
    "x2 = input(\"Enter Co-ordinate for x2: \")\n",
    "y2 = input(\"Enter Co-ordinate for y2: \")\n",
    "\n",
    "\n",
    "d = math.sqrt(math.pow((int(y1) - int(x1)),2) + math.pow((int(y2) - int(x2)),2))\n",
    "\n",
    "print(\"Distance between points (\" + x1+\",\"+y1 +\") and (\" + x2+\",\"+y2 + \") is \"+  str(d))"
   ]
  },
  {
   "cell_type": "markdown",
   "metadata": {},
   "source": [
    "12. Feet to Centimeter Converter\n",
    "Write a Python program to convert height in feet to centimetres."
   ]
  },
  {
   "cell_type": "code",
   "execution_count": 94,
   "metadata": {},
   "outputs": [
    {
     "name": "stdout",
     "output_type": "stream",
     "text": [
      "Enter Height in Feet: 5\n",
      "There are 152.4 cm in 5 ft.\n"
     ]
    }
   ],
   "source": [
    "feet = input(\"Enter Height in Feet: \")\n",
    "height_in_cm = int(feet) * (30.48)\n",
    "print(\"There are \" + str(height_in_cm) + \" cm in \" + feet + \" ft.\")"
   ]
  },
  {
   "cell_type": "markdown",
   "metadata": {},
   "source": [
    "13. BMI Calculator\n",
    "Write a Python program to calculate body mass index"
   ]
  },
  {
   "cell_type": "code",
   "execution_count": 95,
   "metadata": {},
   "outputs": [
    {
     "name": "stdout",
     "output_type": "stream",
     "text": [
      "Enter Height in cm: 180\n",
      "Enter Weight in kg: 75\n",
      "Your BMI is 23.15\n"
     ]
    }
   ],
   "source": [
    "height = input(\"Enter Height in cm: \")\n",
    "weight = input(\"Enter Weight in kg: \")\n",
    "\n",
    "height_in_m = int(height) / 100\n",
    "\n",
    "bmi = float(weight)/ (height_in_m * height_in_m)\n",
    "bmi = round(bmi, 2)\n",
    "print(\"Your BMI is \" + str(bmi))"
   ]
  },
  {
   "cell_type": "markdown",
   "metadata": {},
   "source": [
    "14. Sum of n Positive Integers\n",
    "Write a python program to sum of the first n positive integers"
   ]
  },
  {
   "cell_type": "code",
   "execution_count": 100,
   "metadata": {},
   "outputs": [
    {
     "name": "stdout",
     "output_type": "stream",
     "text": [
      "Enter the value of n: 5\n",
      "Sum of n Positive integers till 5 is 15.0\n"
     ]
    }
   ],
   "source": [
    "number = int(input(\"Enter the value of n: \"))\n",
    "\n",
    "sum_of_n_numbers = (number*(number+1)) / 2\n",
    "\n",
    "print(\"Sum of n Positive integers till \" + str(number) + \" is \" + str(sum_of_n_numbers))"
   ]
  },
  {
   "cell_type": "markdown",
   "metadata": {},
   "source": [
    "15. Digits Sum of a Number\n",
    "Write a Python program to calculate the sum of the digits in an integer"
   ]
  },
  {
   "cell_type": "code",
   "execution_count": 56,
   "metadata": {},
   "outputs": [
    {
     "name": "stdout",
     "output_type": "stream",
     "text": [
      "Enter number to sum : 123\n",
      "Sum of 123 is 6\n"
     ]
    }
   ],
   "source": [
    "num = input(\"Enter number to sum : \")\n",
    "sum = 0\n",
    "\n",
    "for i in num:\n",
    "    \n",
    "    sum = sum + int(i)\n",
    "\n",
    "print(\"Sum of \" + str(num) + \" is \" + str(sum))"
   ]
  },
  {
   "cell_type": "markdown",
   "metadata": {},
   "source": [
    "16. Decimal to Binary Converter\n",
    "Write a Python program to convert an decimal integer to binary"
   ]
  },
  {
   "cell_type": "code",
   "execution_count": 2,
   "metadata": {},
   "outputs": [
    {
     "name": "stdout",
     "output_type": "stream",
     "text": [
      "Enter number to convert: 11\n",
      "Binary representation of 11 is 0 1 1\n"
     ]
    }
   ],
   "source": [
    "num = int(input(\"Enter number to convert: \"))\n",
    "num1 = num\n",
    "l1 = []\n",
    "while num//2 != 0:\n",
    "    l1.append(num%2)\n",
    "    num = num//2\n",
    "#print(l1)\n",
    "l1 = l1[::-1]\n",
    "makestr = \" \".join(str(x) for x in l1)\n",
    "#print(makestr)\n",
    "print(\"Binary representation of \"+ str(num1)+ \" is \"+ makestr)"
   ]
  },
  {
   "cell_type": "markdown",
   "metadata": {},
   "source": [
    "17. Binary to Decimal Converter\n",
    "Write a program to convert binary number to Decimal number"
   ]
  },
  {
   "cell_type": "code",
   "execution_count": 41,
   "metadata": {},
   "outputs": [
    {
     "name": "stdout",
     "output_type": "stream",
     "text": [
      "Enter number to convert: 1011111\n",
      "Decimal representation of 1011111 is 95\n"
     ]
    }
   ],
   "source": [
    "num = input(\"Enter number to convert: \")\n",
    "num1 = num[len(num)::-1]\n",
    "dec_num = 0\n",
    "y=0\n",
    "\n",
    "for i in num1:\n",
    "    \n",
    "    d = int(i) * pow(2,y)\n",
    "    y=y+1\n",
    "    dec_num = dec_num + d\n",
    "    \n",
    "    \n",
    "print(\"Decimal representation of \"+ str(num)+ \" is \"+ str(dec_num))"
   ]
  },
  {
   "cell_type": "markdown",
   "metadata": {},
   "source": [
    "18. Vowel and Consonants Counter\n",
    "Input a text and count the occurrences of vowels and consonant"
   ]
  },
  {
   "cell_type": "code",
   "execution_count": 25,
   "metadata": {},
   "outputs": [
    {
     "name": "stdout",
     "output_type": "stream",
     "text": [
      "Enter text: aaaaa\n",
      "Vowels : 5\n",
      "Consonants : 0\n"
     ]
    }
   ],
   "source": [
    "text = input(\"Enter text: \")\n",
    "vowels_list = [\"a\",\"e\",\"i\",\"o\",\"u\"]\n",
    "vowels = 0\n",
    "consonants = 0\n",
    "\n",
    "\n",
    "for i in range(len(text)):\n",
    "    if text[i].lower() in vowels_list:\n",
    "        vowels = vowels + 1\n",
    "    \n",
    "    else:\n",
    "        consonants = consonants + 1\n",
    "print(\"Vowels : \" + str(vowels))\n",
    "print(\"Consonants : \" + str(consonants))"
   ]
  },
  {
   "cell_type": "markdown",
   "metadata": {},
   "source": [
    "19. Palindrome tester\n",
    "Write a program to check whether given input is palindrome or not"
   ]
  },
  {
   "cell_type": "code",
   "execution_count": 17,
   "metadata": {},
   "outputs": [
    {
     "name": "stdout",
     "output_type": "stream",
     "text": [
      "Enter text: fire\n",
      "Text fire is not Palindrome\n"
     ]
    }
   ],
   "source": [
    "text = input(\"Enter text: \")\n",
    "len_text = len(text) \n",
    "reverse_text = text[len_text::-1]\n",
    "\n",
    "if text == reverse_text:\n",
    "    print(\"Text \" + text+ \" is Palindrome\")\n",
    "else:\n",
    "    print(\"Text \" + text+ \" is not Palindrome\")"
   ]
  },
  {
   "cell_type": "markdown",
   "metadata": {},
   "source": [
    "20. Count Alphabets, Numbers and Special Characters\n",
    "Write a Python program that accepts a string and calculate the number of digits and letters"
   ]
  },
  {
   "cell_type": "code",
   "execution_count": 13,
   "metadata": {},
   "outputs": [
    {
     "name": "stdout",
     "output_type": "stream",
     "text": [
      "Enter text: arsalan zia @25\n",
      "Alphabets :10\n",
      "Numbers :2\n",
      "Special Characters :1\n",
      "Spaces :2\n"
     ]
    }
   ],
   "source": [
    "text = input(\"Enter text: \")\n",
    "numbers = 0\n",
    "special_charc = 0\n",
    "alphabets = 0\n",
    "spaces = 0\n",
    "\n",
    "for i in range(len(text)):\n",
    "    if (text[i].isalpha()):\n",
    "        alphabets = alphabets + 1\n",
    "    elif (text[i].isdigit()):\n",
    "        numbers = numbers + 1\n",
    "    elif (text[i] == \" \"):\n",
    "        spaces = spaces + 1\n",
    "    else:\n",
    "        special_charc = special_charc + 1\n",
    "print(\"Alphabets :\" + str(alphabets))\n",
    "print(\"Numbers :\" + str(numbers))\n",
    "print(\"Special Characters :\" + str(special_charc))\n",
    "print(\"Spaces :\" + str(spaces))\n",
    "\n"
   ]
  },
  {
   "cell_type": "markdown",
   "metadata": {},
   "source": [
    "21. Write a Python program to construct the following pattern\n",
    "*\n",
    "* *\n",
    "* * *\n",
    "* * * *\n",
    "* * * * *\n",
    "* * * *\n",
    "* * *\n",
    "* *\n",
    "*"
   ]
  },
  {
   "cell_type": "code",
   "execution_count": 33,
   "metadata": {},
   "outputs": [
    {
     "name": "stdout",
     "output_type": "stream",
     "text": [
      "Enter max star to be display on single line: 4\n",
      "* \n",
      "* * \n",
      "* * * \n",
      "* * * * \n",
      "* * * \n",
      "* * \n",
      "* \n",
      "\n"
     ]
    }
   ],
   "source": [
    "rows = int(input(\"Enter max star to be display on single line: \"))\n",
    "#for top pyramid\n",
    "for i in range (rows):\n",
    "    for j in range(i + 1):\n",
    "        print(\"*\", end=' ')\n",
    "    print(sep=\"\\n\")\n",
    "#for lower pyramid\n",
    "for i in range (rows,0, -1):\n",
    "    for j in range(i -1):\n",
    "        print(\"*\", end=' ')\n",
    "    print(sep=\"\\n\")"
   ]
  },
  {
   "cell_type": "markdown",
   "metadata": {},
   "source": [
    "22. Write a Python program to construct the following pattern\n",
    "1\n",
    "1 2\n",
    "1 2 3\n",
    "1 2 3 4\n",
    "1 2 3 4 5\n",
    "1 2 3 4\n",
    "1 2 3\n",
    "1 2\n",
    "1"
   ]
  },
  {
   "cell_type": "code",
   "execution_count": 42,
   "metadata": {},
   "outputs": [
    {
     "name": "stdout",
     "output_type": "stream",
     "text": [
      "1 \n",
      "1 2 \n",
      "1 2 3 \n",
      "1 2 3 4 \n",
      "1 2 3 4 5 \n",
      "1 2 3 4 \n",
      "1 2 3 \n",
      "1 2 \n",
      "1 \n",
      "\n"
     ]
    }
   ],
   "source": [
    "num = 6\n",
    "for row in range(1, num):\n",
    "    for column in range(1, row + 1):\n",
    "        print(column, end=' ')\n",
    "    print(\"\")\n",
    "    \n",
    "for row in range(num,1,-1):\n",
    "    for column in range(1,row - 1):\n",
    "        print(column, end=\" \")\n",
    "    print(\"\")\n"
   ]
  },
  {
   "cell_type": "markdown",
   "metadata": {},
   "source": [
    "23. Write a Python program to construct the following pattern\n",
    "1\n",
    "22\n",
    "333\n",
    "4444\n",
    "55555\n",
    "666666\n",
    "7777777\n",
    "88888888\n",
    "999999999"
   ]
  },
  {
   "cell_type": "code",
   "execution_count": 17,
   "metadata": {},
   "outputs": [
    {
     "name": "stdout",
     "output_type": "stream",
     "text": [
      "\n",
      "1\n",
      "22\n",
      "333\n",
      "4444\n",
      "55555\n",
      "666666\n",
      "7777777\n",
      "88888888\n",
      "999999999\n"
     ]
    }
   ],
   "source": [
    "for num in range(10):\n",
    "    for i in range(num):\n",
    "        print(num, end=\"\")\n",
    "    print(sep=\"\\n\")"
   ]
  }
 ],
 "metadata": {
  "kernelspec": {
   "display_name": "Python 3",
   "language": "python",
   "name": "python3"
  },
  "language_info": {
   "codemirror_mode": {
    "name": "ipython",
    "version": 3
   },
   "file_extension": ".py",
   "mimetype": "text/x-python",
   "name": "python",
   "nbconvert_exporter": "python",
   "pygments_lexer": "ipython3",
   "version": "3.7.3"
  }
 },
 "nbformat": 4,
 "nbformat_minor": 2
}

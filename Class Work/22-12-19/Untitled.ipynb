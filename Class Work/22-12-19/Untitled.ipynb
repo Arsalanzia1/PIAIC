{
 "cells": [
  {
   "cell_type": "code",
   "execution_count": 25,
   "metadata": {},
   "outputs": [
    {
     "name": "stdout",
     "output_type": "stream",
     "text": [
      "Enter your marks: 90\n",
      "Your Grade is A\n"
     ]
    }
   ],
   "source": [
    "marks = int(input(\"Enter your marks: \"))\n",
    "\n",
    "if (marks >= 90):\n",
    "    print(\"Your Grade is A\")\n",
    "elif(90 > marks >= 80):\n",
    "    print(\"Your Grade is B\")\n",
    "elif  (80 > marks >= 70):\n",
    "    print(\"Your Grade is C\")\n",
    "elif  (70 > marks > 60):\n",
    "    print(\"Your Grade is D\")\n",
    "elif  (marks <= 60):\n",
    "    print(\"Your Grade is E\")\n",
    "else:\n",
    "    print(\"Invalid Entry\")"
   ]
  },
  {
   "cell_type": "code",
   "execution_count": 18,
   "metadata": {},
   "outputs": [
    {
     "name": "stdout",
     "output_type": "stream",
     "text": [
      "Enter the day on which DVD is rented: thursday\n",
      "Enter the date on which DVD is rented: 12\n",
      "Enter the date on which DVD is returned: 14\n",
      "Enter the time on which DVD is returned: 21\n",
      "Is DVD scratched: yes\n",
      "3\n"
     ]
    }
   ],
   "source": [
    "day_of_rented = input(\"Enter the day on which DVD is rented: \")\n",
    "date_of_rented = int(input(\"Enter the date on which DVD is rented: \"))\n",
    "date_of_return = int(input(\"Enter the date on which DVD is returned: \"))\n",
    "time_of_return = int(input(\"Enter the time on which DVD is returned: \"))\n",
    "is_DVD_scratch = input(\"Is DVD scratched: \")\n",
    "total_days = date_of_return - date_of_rented\n",
    "\n",
    "cost_per_night = 1.59\n",
    "\n",
    "if time_of_return >20 :\n",
    "    total_days += 1\n",
    "    print(total_days)\n",
    "    cost = total_days*cost_per_night\n",
    "\n",
    "    if (day_of_rented.lower() == \"thursday\"):\n",
    "        cost = cost*0.50\n",
    "    elif (day_of_rented.lower() == \"sunday\"):\n",
    "        cost = cost*0.70 \n",
    "        if (is_DVD_scratch.lower() == \"yes\"):\n",
    "            cost = cost + 2\n",
    "    elif (is_DVD_scratch.lower() == \"yes\"):\n",
    "        cost = cost + 1\n",
    "        print(f'\"Your Rent is \" {cost}')\n",
    "    else:\n",
    "        print(f'\"Your Rent is \" {cost}')\n",
    "else:\n",
    "    print(total_days)\n",
    "    cost = total_days*cost_per_night\n",
    "    if (is_DVD_scratch.lower() == \"yes\"):\n",
    "        cost = cost + 1\n",
    "    print(f'\"Your Rent is \" {cost}')\n",
    "\n",
    "\n"
   ]
  },
  {
   "cell_type": "code",
   "execution_count": 30,
   "metadata": {},
   "outputs": [
    {
     "name": "stdout",
     "output_type": "stream",
     "text": [
      "0\n"
     ]
    }
   ],
   "source": [
    "l1 =[0, 1, 2, 3, 4, 5, 6 ,7,8,9]\n",
    "index = 0\n",
    "while (index < 10):\n",
    "    print(l1[index])\n",
    "    \n",
    "    if l1.index(6) == 6:\n",
    "         break\n",
    "    else:\n",
    "        index += 1"
   ]
  },
  {
   "cell_type": "code",
   "execution_count": null,
   "metadata": {},
   "outputs": [],
   "source": []
  }
 ],
 "metadata": {
  "kernelspec": {
   "display_name": "Python 3",
   "language": "python",
   "name": "python3"
  },
  "language_info": {
   "codemirror_mode": {
    "name": "ipython",
    "version": 3
   },
   "file_extension": ".py",
   "mimetype": "text/x-python",
   "name": "python",
   "nbconvert_exporter": "python",
   "pygments_lexer": "ipython3",
   "version": "3.7.4"
  }
 },
 "nbformat": 4,
 "nbformat_minor": 2
}

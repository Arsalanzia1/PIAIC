{
 "cells": [
  {
   "cell_type": "raw",
   "metadata": {},
   "source": [
    "# MS 98-381 EXAM"
   ]
  },
  {
   "cell_type": "code",
   "execution_count": 3,
   "metadata": {},
   "outputs": [
    {
     "name": "stdout",
     "output_type": "stream",
     "text": [
      "line1\n",
      "line2\n"
     ]
    },
    {
     "ename": "ZeroDivisionError",
     "evalue": "division by zero",
     "output_type": "error",
     "traceback": [
      "\u001b[1;31m---------------------------------------------------------------------------\u001b[0m",
      "\u001b[1;31mZeroDivisionError\u001b[0m                         Traceback (most recent call last)",
      "\u001b[1;32m<ipython-input-3-9fc44214bd57>\u001b[0m in \u001b[0;36m<module>\u001b[1;34m\u001b[0m\n\u001b[0;32m      1\u001b[0m \u001b[0mprint\u001b[0m\u001b[1;33m(\u001b[0m\u001b[1;34m\"line1\"\u001b[0m\u001b[1;33m)\u001b[0m\u001b[1;33m\u001b[0m\u001b[1;33m\u001b[0m\u001b[0m\n\u001b[0;32m      2\u001b[0m \u001b[0mprint\u001b[0m\u001b[1;33m(\u001b[0m\u001b[1;34m\"line2\"\u001b[0m\u001b[1;33m)\u001b[0m\u001b[1;33m\u001b[0m\u001b[1;33m\u001b[0m\u001b[0m\n\u001b[1;32m----> 3\u001b[1;33m \u001b[0mprint\u001b[0m\u001b[1;33m(\u001b[0m\u001b[1;36m7\u001b[0m\u001b[1;33m/\u001b[0m\u001b[1;36m0\u001b[0m\u001b[1;33m)\u001b[0m\u001b[1;33m\u001b[0m\u001b[1;33m\u001b[0m\u001b[0m\n\u001b[0m\u001b[0;32m      4\u001b[0m \u001b[0mprint\u001b[0m\u001b[1;33m(\u001b[0m\u001b[1;34m\"line3\"\u001b[0m\u001b[1;33m)\u001b[0m\u001b[1;33m\u001b[0m\u001b[1;33m\u001b[0m\u001b[0m\n\u001b[0;32m      5\u001b[0m \u001b[0mprint\u001b[0m\u001b[1;33m(\u001b[0m\u001b[1;34m\"line4\"\u001b[0m\u001b[1;33m)\u001b[0m\u001b[1;33m\u001b[0m\u001b[1;33m\u001b[0m\u001b[0m\n",
      "\u001b[1;31mZeroDivisionError\u001b[0m: division by zero"
     ]
    }
   ],
   "source": [
    "print(\"line1\")\n",
    "print(\"line2\")\n",
    "print(7/0)\n",
    "print(\"line3\")\n",
    "print(\"line4\")\n",
    "print(\"line5\")"
   ]
  },
  {
   "cell_type": "code",
   "execution_count": 4,
   "metadata": {},
   "outputs": [
    {
     "ename": "NameError",
     "evalue": "name 'abc' is not defined",
     "output_type": "error",
     "traceback": [
      "\u001b[1;31m---------------------------------------------------------------------------\u001b[0m",
      "\u001b[1;31mNameError\u001b[0m                                 Traceback (most recent call last)",
      "\u001b[1;32m<ipython-input-4-5a0fe726361e>\u001b[0m in \u001b[0;36m<module>\u001b[1;34m\u001b[0m\n\u001b[1;32m----> 1\u001b[1;33m \u001b[0mprint\u001b[0m\u001b[1;33m(\u001b[0m\u001b[0mabc\u001b[0m\u001b[1;33m)\u001b[0m\u001b[1;33m\u001b[0m\u001b[1;33m\u001b[0m\u001b[0m\n\u001b[0m",
      "\u001b[1;31mNameError\u001b[0m: name 'abc' is not defined"
     ]
    }
   ],
   "source": [
    "print(abc)"
   ]
  },
  {
   "cell_type": "code",
   "execution_count": 5,
   "metadata": {},
   "outputs": [],
   "source": [
    "d = {\"a\": 3}"
   ]
  },
  {
   "cell_type": "markdown",
   "metadata": {},
   "source": [
    "# Exception Handlin"
   ]
  },
  {
   "cell_type": "raw",
   "metadata": {},
   "source": [
    "try:\n",
    "    your code\n",
    "except (ErrorClass1, ErrorClass2,...):\n",
    "    if error generated\n",
    "else:\n",
    "    if error is not generated\n",
    "finally:\n",
    "    always Execute"
   ]
  },
  {
   "cell_type": "code",
   "execution_count": 6,
   "metadata": {},
   "outputs": [
    {
     "name": "stdout",
     "output_type": "stream",
     "text": [
      "Start\n",
      "Can't divide by Zero\n",
      "End\n"
     ]
    }
   ],
   "source": [
    "print(\"Start\")\n",
    "try:\n",
    "    print(7/0)\n",
    "except ZeroDivisionError:\n",
    "    print(\"Can't divide by Zero\")\n",
    "\n",
    "print(\"End\")"
   ]
  },
  {
   "cell_type": "code",
   "execution_count": 8,
   "metadata": {},
   "outputs": [
    {
     "name": "stdout",
     "output_type": "stream",
     "text": [
      "Start\n",
      "Index not found\n",
      "End\n"
     ]
    }
   ],
   "source": [
    "print(\"Start\")\n",
    "try:\n",
    "    a = [2, 30, 3]\n",
    "    print(a[5])\n",
    "except IndexError:\n",
    "    print(\"Index not found\")\n",
    "\n",
    "print(\"End\")"
   ]
  },
  {
   "cell_type": "code",
   "execution_count": 10,
   "metadata": {},
   "outputs": [
    {
     "name": "stdout",
     "output_type": "stream",
     "text": [
      "Start\n",
      "we are trying to solve issue\n",
      "End\n"
     ]
    }
   ],
   "source": [
    "print(\"Start\")\n",
    "try:\n",
    "    print(4/0)\n",
    "    a = [2, 30, 3]\n",
    "    print(a[5])\n",
    "    \n",
    "    open('abc.txt')\n",
    "except (ZeroDivisionError, IndexError,FileNotFoundError):\n",
    "    print(\"we are trying to solve issue\")\n",
    "\n",
    "print(\"End\")\n"
   ]
  },
  {
   "cell_type": "code",
   "execution_count": 12,
   "metadata": {},
   "outputs": [
    {
     "name": "stdout",
     "output_type": "stream",
     "text": [
      "can't divide by zero\n",
      "index not found\n",
      "can't divide by zero\n"
     ]
    }
   ],
   "source": [
    "try:\n",
    "    print(7/0)\n",
    "except ZeroDivisionError:\n",
    "    print(\"can't divide by zero\")\n",
    "try:\n",
    "    a=[2,3]\n",
    "    print(a[7])\n",
    "except IndexError:\n",
    "    print(\"index not found\")\n",
    "try:\n",
    "    open('abc.txt')\n",
    "except FileNotFoundError:\n",
    "    print(\"can't divide by zero\")\n"
   ]
  },
  {
   "cell_type": "code",
   "execution_count": 14,
   "metadata": {},
   "outputs": [
    {
     "name": "stdout",
     "output_type": "stream",
     "text": [
      "0.4\n",
      "3\n",
      "Problem:  [Errno 2] No such file or directory: 'abc.txt'\n"
     ]
    }
   ],
   "source": [
    "try:\n",
    "    \n",
    "    print(4/10)\n",
    "    a = [2, 30, 3]\n",
    "    print(a[2])\n",
    "    \n",
    "    open('abc.txt')\n",
    "except Exception as e:\n",
    "    print(\"Problem: \", e)"
   ]
  },
  {
   "cell_type": "code",
   "execution_count": 16,
   "metadata": {},
   "outputs": [],
   "source": [
    "class Student():\n",
    "    def __init__(self, name, age):\n",
    "        if age<18 or  age>60:\n",
    "            raise Exception(\"Age Range should be in 18 to 60\")            \n",
    "        self.name =name\n",
    "        self.age = age\n",
    "s1 = Student('Ali', 25)"
   ]
  },
  {
   "cell_type": "code",
   "execution_count": 22,
   "metadata": {},
   "outputs": [
    {
     "ename": "StudentAgeRangeError",
     "evalue": "Age Range should be in 18 to 60",
     "output_type": "error",
     "traceback": [
      "\u001b[1;31m---------------------------------------------------------------------------\u001b[0m",
      "\u001b[1;31mStudentAgeRangeError\u001b[0m                      Traceback (most recent call last)",
      "\u001b[1;32m<ipython-input-22-216d35ee22e0>\u001b[0m in \u001b[0;36m<module>\u001b[1;34m\u001b[0m\n\u001b[0;32m      9\u001b[0m     \u001b[1;32mpass\u001b[0m\u001b[1;33m\u001b[0m\u001b[1;33m\u001b[0m\u001b[0m\n\u001b[0;32m     10\u001b[0m \u001b[1;33m\u001b[0m\u001b[0m\n\u001b[1;32m---> 11\u001b[1;33m \u001b[0ms1\u001b[0m \u001b[1;33m=\u001b[0m \u001b[0mStudent\u001b[0m\u001b[1;33m(\u001b[0m\u001b[1;34m'Ali'\u001b[0m\u001b[1;33m,\u001b[0m \u001b[1;36m225\u001b[0m\u001b[1;33m)\u001b[0m\u001b[1;33m\u001b[0m\u001b[1;33m\u001b[0m\u001b[0m\n\u001b[0m",
      "\u001b[1;32m<ipython-input-22-216d35ee22e0>\u001b[0m in \u001b[0;36m__init__\u001b[1;34m(self, name, age)\u001b[0m\n\u001b[0;32m      3\u001b[0m         \u001b[1;32mif\u001b[0m \u001b[0mage\u001b[0m\u001b[1;33m<\u001b[0m\u001b[1;36m18\u001b[0m \u001b[1;32mor\u001b[0m  \u001b[0mage\u001b[0m\u001b[1;33m>\u001b[0m\u001b[1;36m60\u001b[0m\u001b[1;33m:\u001b[0m\u001b[1;33m\u001b[0m\u001b[1;33m\u001b[0m\u001b[0m\n\u001b[0;32m      4\u001b[0m \u001b[1;33m\u001b[0m\u001b[0m\n\u001b[1;32m----> 5\u001b[1;33m             \u001b[1;32mraise\u001b[0m \u001b[0mStudentAgeRangeError\u001b[0m\u001b[1;33m(\u001b[0m\u001b[1;34m\"Age Range should be in 18 to 60\"\u001b[0m\u001b[1;33m)\u001b[0m\u001b[1;33m\u001b[0m\u001b[1;33m\u001b[0m\u001b[0m\n\u001b[0m\u001b[0;32m      6\u001b[0m         \u001b[0mself\u001b[0m\u001b[1;33m.\u001b[0m\u001b[0mname\u001b[0m \u001b[1;33m=\u001b[0m\u001b[0mname\u001b[0m\u001b[1;33m\u001b[0m\u001b[1;33m\u001b[0m\u001b[0m\n\u001b[0;32m      7\u001b[0m         \u001b[0mself\u001b[0m\u001b[1;33m.\u001b[0m\u001b[0mage\u001b[0m \u001b[1;33m=\u001b[0m \u001b[0mage\u001b[0m\u001b[1;33m\u001b[0m\u001b[1;33m\u001b[0m\u001b[0m\n",
      "\u001b[1;31mStudentAgeRangeError\u001b[0m: Age Range should be in 18 to 60"
     ]
    }
   ],
   "source": [
    "class Student():\n",
    "    def __init__(self, name, age):\n",
    "        if age<18 or  age>60:\n",
    "            \n",
    "            raise StudentAgeRangeError(\"Age Range should be in 18 to 60\")            \n",
    "        self.name =name\n",
    "        self.age = age\n",
    "class StudentAgeRangeError(Exception):\n",
    "    pass\n",
    "    \n",
    "s1 = Student('Ali', 225)"
   ]
  },
  {
   "cell_type": "code",
   "execution_count": null,
   "metadata": {},
   "outputs": [],
   "source": []
  }
 ],
 "metadata": {
  "kernelspec": {
   "display_name": "Python 3",
   "language": "python",
   "name": "python3"
  },
  "language_info": {
   "codemirror_mode": {
    "name": "ipython",
    "version": 3
   },
   "file_extension": ".py",
   "mimetype": "text/x-python",
   "name": "python",
   "nbconvert_exporter": "python",
   "pygments_lexer": "ipython3",
   "version": "3.7.3"
  }
 },
 "nbformat": 4,
 "nbformat_minor": 2
}

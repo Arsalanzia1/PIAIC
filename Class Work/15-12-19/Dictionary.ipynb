{
 "cells": [
  {
   "cell_type": "code",
   "execution_count": 4,
   "metadata": {},
   "outputs": [
    {
     "data": {
      "text/plain": [
       "[2, 'Arsalan', 'A.I']"
      ]
     },
     "execution_count": 4,
     "metadata": {},
     "output_type": "execute_result"
    }
   ],
   "source": [
    "#    0    1        2\n",
    "l1= [2,\"Arsalan\",\"A.I\"]\n",
    "l1"
   ]
  },
  {
   "cell_type": "markdown",
   "metadata": {},
   "source": [
    "# Dictionary"
   ]
  },
  {
   "cell_type": "raw",
   "metadata": {},
   "source": [
    "\n",
    "# key1 : value1\n",
    "# key2 : value2\n",
    "# key3 : value3\n",
    "# key4 : value4 ......\n"
   ]
  },
  {
   "cell_type": "code",
   "execution_count": 5,
   "metadata": {},
   "outputs": [
    {
     "data": {
      "text/plain": [
       "{'id': 2, 'name': 'Arsalan', 'Course': 'A.I'}"
      ]
     },
     "execution_count": 5,
     "metadata": {},
     "output_type": "execute_result"
    }
   ],
   "source": [
    "d1 = {\"id\": 2,\n",
    "     \"name\": \"Arsalan\",\n",
    "      \"Course\": \"A.I\" }\n",
    "d1"
   ]
  },
  {
   "cell_type": "code",
   "execution_count": 6,
   "metadata": {},
   "outputs": [
    {
     "data": {
      "text/plain": [
       "{'id': 10, 'name': 'Arsalan', 'course': 'A.I'}"
      ]
     },
     "execution_count": 6,
     "metadata": {},
     "output_type": "execute_result"
    }
   ],
   "source": [
    "d2 = {} #empty dictionary\n",
    "d2[\"id\"]= 10\n",
    "d2[\"name\"]= \"Arsalan\"\n",
    "d2[\"course\"]= \"A.I\"\n",
    "d2"
   ]
  },
  {
   "cell_type": "code",
   "execution_count": 7,
   "metadata": {},
   "outputs": [
    {
     "data": {
      "text/plain": [
       "{'id': 25, 'name': 'Arsalan', 'Course': 'A.I'}"
      ]
     },
     "execution_count": 7,
     "metadata": {},
     "output_type": "execute_result"
    }
   ],
   "source": [
    "d1 = {\"id\": 2,\n",
    "     \"name\": \"Arsalan\",\n",
    "      \"id\":25,\n",
    "      \"Course\": \"A.I\" }\n",
    "d1"
   ]
  },
  {
   "cell_type": "code",
   "execution_count": 8,
   "metadata": {},
   "outputs": [
    {
     "name": "stdout",
     "output_type": "stream",
     "text": [
      "{'id': 25, 'name': 'Arsalan', 'Course': 'A.I'}\n",
      "{}\n"
     ]
    },
    {
     "ename": "NameError",
     "evalue": "name 'd1' is not defined",
     "output_type": "error",
     "traceback": [
      "\u001b[1;31m---------------------------------------------------------------------------\u001b[0m",
      "\u001b[1;31mNameError\u001b[0m                                 Traceback (most recent call last)",
      "\u001b[1;32m<ipython-input-8-d4ab9d1fbe24>\u001b[0m in \u001b[0;36m<module>\u001b[1;34m\u001b[0m\n\u001b[0;32m      4\u001b[0m \u001b[0mprint\u001b[0m\u001b[1;33m(\u001b[0m\u001b[0md1\u001b[0m\u001b[1;33m)\u001b[0m\u001b[1;33m\u001b[0m\u001b[1;33m\u001b[0m\u001b[0m\n\u001b[0;32m      5\u001b[0m \u001b[1;32mdel\u001b[0m\u001b[1;33m(\u001b[0m\u001b[0md1\u001b[0m\u001b[1;33m)\u001b[0m\u001b[1;33m\u001b[0m\u001b[1;33m\u001b[0m\u001b[0m\n\u001b[1;32m----> 6\u001b[1;33m \u001b[0mprint\u001b[0m\u001b[1;33m(\u001b[0m\u001b[0md1\u001b[0m\u001b[1;33m)\u001b[0m\u001b[1;33m\u001b[0m\u001b[1;33m\u001b[0m\u001b[0m\n\u001b[0m",
      "\u001b[1;31mNameError\u001b[0m: name 'd1' is not defined"
     ]
    }
   ],
   "source": [
    "d1 ={'id': 25, 'name': 'Arsalan', 'Course': 'A.I'}\n",
    "print(d1)\n",
    "d1.clear()\n",
    "print(d1)\n",
    "del(d1)\n",
    "\n",
    "print(d1)"
   ]
  },
  {
   "cell_type": "code",
   "execution_count": 13,
   "metadata": {},
   "outputs": [
    {
     "name": "stdout",
     "output_type": "stream",
     "text": [
      "{'id': 25, 'name': 'Arsalan', 'Course': 'A.I'}\n",
      "{'id': 25, 'name': 'Arsalan', 'Course': 'A.I'}\n",
      "{'id': 25, 'name': 'hamza', 'Course': 'A.I'}\n"
     ]
    }
   ],
   "source": [
    "d1={'id': 25, 'name': 'Arsalan', 'Course': 'A.I'}\n",
    "\n",
    "d2=d1.copy()\n",
    "print(d1)\n",
    "d1['name']=\"hamza\"\n",
    "print(d2)\n",
    "print(d1)"
   ]
  },
  {
   "cell_type": "code",
   "execution_count": 19,
   "metadata": {},
   "outputs": [
    {
     "name": "stdout",
     "output_type": "stream",
     "text": [
      "['name', 'id', 'contact', 'DOB', 'CNIC']\n"
     ]
    },
    {
     "data": {
      "text/plain": [
       "{'name': None, 'id': None, 'contact': None, 'DOB': None, 'CNIC': None}"
      ]
     },
     "execution_count": 19,
     "metadata": {},
     "output_type": "execute_result"
    }
   ],
   "source": [
    "l1 = ['name','id','contact','DOB','CNIC']\n",
    "print(l1)\n",
    "dict.fromkeys(l1)"
   ]
  },
  {
   "cell_type": "code",
   "execution_count": 27,
   "metadata": {},
   "outputs": [
    {
     "name": "stdout",
     "output_type": "stream",
     "text": [
      "Enter your names separated by comma: cnic, name\n"
     ]
    },
    {
     "data": {
      "text/plain": [
       "{'cnic': None, ' name': None}"
      ]
     },
     "execution_count": 27,
     "metadata": {},
     "output_type": "execute_result"
    }
   ],
   "source": [
    "l1= [\"\"]\n",
    "l1 = input(\"Enter your names separated by comma: \")\n",
    "l2=l1.split(\",\")\n",
    "dict.fromkeys(l2)\n",
    "\n"
   ]
  },
  {
   "cell_type": "code",
   "execution_count": 28,
   "metadata": {},
   "outputs": [
    {
     "name": "stdout",
     "output_type": "stream",
     "text": [
      "enter keys: a,,bc,\n"
     ]
    },
    {
     "data": {
      "text/plain": [
       "{'a': None, '': None, 'bc': None}"
      ]
     },
     "execution_count": 28,
     "metadata": {},
     "output_type": "execute_result"
    }
   ],
   "source": [
    "l1 = input(\"enter keys: \").split(\",\")\n",
    "dict.fromkeys(l1)"
   ]
  },
  {
   "cell_type": "code",
   "execution_count": 30,
   "metadata": {},
   "outputs": [
    {
     "name": "stdout",
     "output_type": "stream",
     "text": [
      "Enter keys separated by commas:  a,b,c\n",
      "Enter keys values separated by commas:d,e,f\n",
      "{'a': 'd', 'b': 'e', 'c': 'f'}\n"
     ]
    }
   ],
   "source": [
    "l1 = input(\"Enter keys separated by commas:  \").split(\",\")\n",
    "l2 = input(\"Enter keys values separated by commas:\").split(\",\")\n",
    "d1={}\n",
    "for i in range(len(l1)):\n",
    "    d1[l1[i]] = l2[i]\n",
    "print(d1)"
   ]
  },
  {
   "cell_type": "code",
   "execution_count": 34,
   "metadata": {},
   "outputs": [
    {
     "name": "stdout",
     "output_type": "stream",
     "text": [
      "Enter keys separated by commas:  a\n",
      "Enter keys values separated by commas:b\n",
      "{}\n"
     ]
    }
   ],
   "source": [
    "l1 = input(\"Enter keys separated by commas:  \").split(\",\")\n",
    "l2 = input(\"Enter keys values separated by commas:\").split(\",\")\n",
    "d1={}\n",
    "while i< len(l1):\n",
    "    d1[l1[i]] = l2[i]\n",
    "    i += 1\n",
    "print(d1)"
   ]
  },
  {
   "cell_type": "code",
   "execution_count": 35,
   "metadata": {},
   "outputs": [
    {
     "name": "stdout",
     "output_type": "stream",
     "text": [
      "keys: a,b\n",
      "values: c,d\n"
     ]
    },
    {
     "data": {
      "text/plain": [
       "{'a': 'c', 'b': 'd'}"
      ]
     },
     "execution_count": 35,
     "metadata": {},
     "output_type": "execute_result"
    }
   ],
   "source": [
    "l1 = input(\"keys: \").split(\",\")\n",
    "l2 =input(\"values: \").split(\",\")\n",
    "{l1[i]:l2[i] for i in range(len(l1))}"
   ]
  },
  {
   "cell_type": "code",
   "execution_count": 36,
   "metadata": {},
   "outputs": [
    {
     "name": "stdout",
     "output_type": "stream",
     "text": [
      "keys: a,b,c\n",
      "values: c,d,e\n"
     ]
    },
    {
     "data": {
      "text/plain": [
       "[('a', 'c'), ('b', 'd'), ('c', 'e')]"
      ]
     },
     "execution_count": 36,
     "metadata": {},
     "output_type": "execute_result"
    }
   ],
   "source": [
    "l1 = input(\"keys: \").split(\",\")\n",
    "l2 =input(\"values: \").split(\",\")\n",
    "list(zip (l1,l2))\n"
   ]
  },
  {
   "cell_type": "code",
   "execution_count": 37,
   "metadata": {},
   "outputs": [
    {
     "name": "stdout",
     "output_type": "stream",
     "text": [
      "keys: a,b,c\n",
      "values: d,e,f\n"
     ]
    },
    {
     "data": {
      "text/plain": [
       "{'a': 'd', 'b': 'e', 'c': 'f'}"
      ]
     },
     "execution_count": 37,
     "metadata": {},
     "output_type": "execute_result"
    }
   ],
   "source": [
    "l1 = input(\"keys: \").split(\",\")\n",
    "l2 =input(\"values: \").split(\",\")\n",
    "dict(zip(l1,l2))\n"
   ]
  },
  {
   "cell_type": "code",
   "execution_count": 38,
   "metadata": {},
   "outputs": [
    {
     "name": "stdout",
     "output_type": "stream",
     "text": [
      "Id a,b\n",
      "name c,d\n",
      "Skills separated by comma python\n"
     ]
    },
    {
     "ename": "ValueError",
     "evalue": "dictionary update sequence element #0 has length 3; 2 is required",
     "output_type": "error",
     "traceback": [
      "\u001b[1;31m---------------------------------------------------------------------------\u001b[0m",
      "\u001b[1;31mValueError\u001b[0m                                Traceback (most recent call last)",
      "\u001b[1;32m<ipython-input-38-bfe2d0f9188a>\u001b[0m in \u001b[0;36m<module>\u001b[1;34m\u001b[0m\n\u001b[0;32m      2\u001b[0m \u001b[0ml2\u001b[0m \u001b[1;33m=\u001b[0m\u001b[0minput\u001b[0m\u001b[1;33m(\u001b[0m\u001b[1;34m\"name \"\u001b[0m\u001b[1;33m)\u001b[0m\u001b[1;33m\u001b[0m\u001b[1;33m\u001b[0m\u001b[0m\n\u001b[0;32m      3\u001b[0m \u001b[0ml3\u001b[0m \u001b[1;33m=\u001b[0m\u001b[0minput\u001b[0m\u001b[1;33m(\u001b[0m\u001b[1;34m\"Skills separated by comma \"\u001b[0m\u001b[1;33m)\u001b[0m\u001b[1;33m\u001b[0m\u001b[1;33m\u001b[0m\u001b[0m\n\u001b[1;32m----> 4\u001b[1;33m \u001b[0mdict\u001b[0m\u001b[1;33m(\u001b[0m\u001b[0mzip\u001b[0m\u001b[1;33m(\u001b[0m\u001b[0ml1\u001b[0m\u001b[1;33m,\u001b[0m\u001b[0ml2\u001b[0m\u001b[1;33m,\u001b[0m\u001b[0ml3\u001b[0m\u001b[1;33m)\u001b[0m\u001b[1;33m)\u001b[0m\u001b[1;33m\u001b[0m\u001b[1;33m\u001b[0m\u001b[0m\n\u001b[0m",
      "\u001b[1;31mValueError\u001b[0m: dictionary update sequence element #0 has length 3; 2 is required"
     ]
    }
   ],
   "source": [
    "dic1= { \"\"}\n",
    "l1 = input(\"Id \")\n",
    "l2 =input(\"name \")\n",
    "l3 =input(\"Skills separated by comma \")\n",
    "dict(zip(l1,l2,l3))\n"
   ]
  },
  {
   "cell_type": "code",
   "execution_count": 40,
   "metadata": {},
   "outputs": [
    {
     "name": "stdout",
     "output_type": "stream",
     "text": [
      "enter ida\n",
      "enter nameb\n",
      "enter skillsc,d\n"
     ]
    },
    {
     "data": {
      "text/plain": [
       "{'id': 'a', 'name': 'b', 'skills': ['c', 'd']}"
      ]
     },
     "execution_count": 40,
     "metadata": {},
     "output_type": "execute_result"
    }
   ],
   "source": [
    "dict1 ={}\n",
    "dict1[\"id\"] = input(\"enter id\")\n",
    "dict1[\"name\"] = input(\"enter name\")\n",
    "dict1[\"skills\"] = input(\"enter skills\").split(\",\")\n",
    "dict1"
   ]
  },
  {
   "cell_type": "code",
   "execution_count": 47,
   "metadata": {},
   "outputs": [
    {
     "data": {
      "text/plain": [
       "[('A', 'a', '0'),\n",
       " ('B', 'b', '1'),\n",
       " ('C', 'c', '2'),\n",
       " ('D', 'd', '3'),\n",
       " ('E', 'e', '4'),\n",
       " ('F', 'f', '5'),\n",
       " ('G', 'g', '6'),\n",
       " ('H', 'h', '7'),\n",
       " ('I', 'i', '8'),\n",
       " ('J', 'j', '9')]"
      ]
     },
     "execution_count": 47,
     "metadata": {},
     "output_type": "execute_result"
    }
   ],
   "source": [
    "a= [chr(i) for i in range(65,91)]\n",
    "b= [chr(i) for i in range(97,123)]\n",
    "c= [chr(i) for i in range(48,58)]\n",
    "d= zip(a,b,c)\n",
    "list(d)"
   ]
  },
  {
   "cell_type": "code",
   "execution_count": 48,
   "metadata": {},
   "outputs": [
    {
     "data": {
      "text/plain": [
       "[('A', 'z', '0'),\n",
       " ('B', 'y', '1'),\n",
       " ('C', 'x', '2'),\n",
       " ('D', 'w', '3'),\n",
       " ('E', 'v', '4'),\n",
       " ('F', 'u', '5'),\n",
       " ('G', 't', '6'),\n",
       " ('H', 's', '7'),\n",
       " ('I', 'r', '8'),\n",
       " ('J', 'q', '9')]"
      ]
     },
     "execution_count": 48,
     "metadata": {},
     "output_type": "execute_result"
    }
   ],
   "source": [
    "a= [chr(i) for i in range(65,91)]\n",
    "b= [chr(i) for i in range(97,123)]\n",
    "c= [chr(i) for i in range(48,58)]\n",
    "d= zip(a,sorted(b, reverse=True), c)\n",
    "list(d)"
   ]
  },
  {
   "cell_type": "code",
   "execution_count": 54,
   "metadata": {},
   "outputs": [
    {
     "ename": "TypeError",
     "evalue": "'zip' object is not subscriptable",
     "output_type": "error",
     "traceback": [
      "\u001b[1;31m---------------------------------------------------------------------------\u001b[0m",
      "\u001b[1;31mTypeError\u001b[0m                                 Traceback (most recent call last)",
      "\u001b[1;32m<ipython-input-54-5f57c32209d8>\u001b[0m in \u001b[0;36m<module>\u001b[1;34m\u001b[0m\n\u001b[0;32m      6\u001b[0m \u001b[0me\u001b[0m\u001b[1;33m==\u001b[0m \u001b[0md\u001b[0m\u001b[1;33m\u001b[0m\u001b[1;33m\u001b[0m\u001b[0m\n\u001b[0;32m      7\u001b[0m \u001b[1;33m\u001b[0m\u001b[0m\n\u001b[1;32m----> 8\u001b[1;33m \u001b[1;32mfor\u001b[0m \u001b[0mi\u001b[0m \u001b[1;32min\u001b[0m \u001b[0me\u001b[0m\u001b[1;33m[\u001b[0m\u001b[1;33m:\u001b[0m\u001b[1;33m:\u001b[0m\u001b[1;33m-\u001b[0m\u001b[1;36m1\u001b[0m\u001b[1;33m]\u001b[0m\u001b[1;33m:\u001b[0m\u001b[1;33m\u001b[0m\u001b[1;33m\u001b[0m\u001b[0m\n\u001b[0m\u001b[0;32m      9\u001b[0m     \u001b[0mprint\u001b[0m\u001b[1;33m(\u001b[0m\u001b[0mi\u001b[0m\u001b[1;33m)\u001b[0m\u001b[1;33m\u001b[0m\u001b[1;33m\u001b[0m\u001b[0m\n",
      "\u001b[1;31mTypeError\u001b[0m: 'zip' object is not subscriptable"
     ]
    }
   ],
   "source": [
    "a= [chr(i) for i in range(65,91)]\n",
    "b= [chr(i) for i in range(97,123)]\n",
    "c= [chr(i) for i in range(48,58)]\n",
    "d= zip(a,sorted(b, reverse=True), c)\n",
    "list(d)\n",
    "e== d\n",
    "\n",
    "for i in e[::-1]:\n",
    "    print(i)"
   ]
  },
  {
   "cell_type": "code",
   "execution_count": 59,
   "metadata": {},
   "outputs": [
    {
     "data": {
      "text/plain": [
       "[('J', 'q', '9'),\n",
       " ('I', 'r', '8'),\n",
       " ('H', 's', '7'),\n",
       " ('G', 't', '6'),\n",
       " ('F', 'u', '5'),\n",
       " ('E', 'v', '4'),\n",
       " ('D', 'w', '3'),\n",
       " ('C', 'x', '2'),\n",
       " ('B', 'y', '1'),\n",
       " ('A', 'z', '0')]"
      ]
     },
     "execution_count": 59,
     "metadata": {},
     "output_type": "execute_result"
    }
   ],
   "source": [
    "d= [('A', 'z', '0'),\n",
    " ('B', 'y', '1'),\n",
    " ('C', 'x', '2'),\n",
    " ('D', 'w', '3'),\n",
    " ('E', 'v', '4'),\n",
    " ('F', 'u', '5'),\n",
    " ('G', 't', '6'),\n",
    " ('H', 's', '7'),\n",
    " ('I', 'r', '8'),\n",
    " ('J', 'q', '9')]\n",
    "sorted(d, reverse=True, key=lambda x:x[0])"
   ]
  },
  {
   "cell_type": "code",
   "execution_count": 60,
   "metadata": {},
   "outputs": [
    {
     "data": {
      "text/plain": [
       "[('J', 'q', '9'),\n",
       " ('I', 'r', '8'),\n",
       " ('H', 's', '7'),\n",
       " ('G', 't', '6'),\n",
       " ('F', 'u', '5'),\n",
       " ('E', 'v', '4'),\n",
       " ('D', 'w', '3'),\n",
       " ('C', 'x', '2'),\n",
       " ('B', 'y', '1'),\n",
       " ('A', 'z', '0')]"
      ]
     },
     "execution_count": 60,
     "metadata": {},
     "output_type": "execute_result"
    }
   ],
   "source": [
    "d= [('A', 'z', '0'),\n",
    " ('B', 'y', '1'),\n",
    " ('C', 'x', '2'),\n",
    " ('D', 'w', '3'),\n",
    " ('E', 'v', '4'),\n",
    " ('F', 'u', '5'),\n",
    " ('G', 't', '6'),\n",
    " ('H', 's', '7'),\n",
    " ('I', 'r', '8'),\n",
    " ('J', 'q', '9')]\n",
    "def abc(x):\n",
    "    return x[2]\n",
    "sorted(d, reverse=True, key=abc)"
   ]
  },
  {
   "cell_type": "code",
   "execution_count": 65,
   "metadata": {},
   "outputs": [
    {
     "name": "stdout",
     "output_type": "stream",
     "text": [
      "{'a': 1, 'b': 2, 'c': 5, 'd': 4}\n"
     ]
    }
   ],
   "source": [
    "d1 = {\n",
    "    'a':1,\n",
    "    'b':2,\n",
    "    \n",
    "    'd':4,\n",
    "    'c':5\n",
    "}\n",
    "d2={}\n",
    "for k in sorted(d1.keys()):\n",
    "    d2[k]=d1[k]\n",
    "    \n",
    "print(d2)"
   ]
  },
  {
   "cell_type": "code",
   "execution_count": 68,
   "metadata": {},
   "outputs": [
    {
     "ename": "SyntaxError",
     "evalue": "invalid syntax (<ipython-input-68-f18b0bcf415e>, line 9)",
     "output_type": "error",
     "traceback": [
      "\u001b[1;36m  File \u001b[1;32m\"<ipython-input-68-f18b0bcf415e>\"\u001b[1;36m, line \u001b[1;32m9\u001b[0m\n\u001b[1;33m    {k:v for k,v in sorted (d1.items(), key=lambda x:x[0]), reverse=True}\u001b[0m\n\u001b[1;37m                                                          ^\u001b[0m\n\u001b[1;31mSyntaxError\u001b[0m\u001b[1;31m:\u001b[0m invalid syntax\n"
     ]
    }
   ],
   "source": [
    "d1 = {\n",
    "    'a':1,\n",
    "    'b':2,\n",
    "    \n",
    "    'd':4,\n",
    "    'c':5\n",
    "}\n",
    "list(d1.items())\n",
    "{k:v for k,v in sorted (d1.items(), key=lambda x:x[0]), reverse=True}"
   ]
  },
  {
   "cell_type": "code",
   "execution_count": null,
   "metadata": {},
   "outputs": [],
   "source": [
    "students=[]\n",
    "flag = ''\n",
    "while flag != 'no':\n",
    "    d1 = {}\n",
    "    d1['id']= input('ID ')\n",
    "    d1['name']= input('Name ')\n",
    "    d1['skills']= input('skills ').split(\",\")\n",
    "    students.append(d1)\n",
    "    flag = print(\"Enter more records yes | no\")\n",
    "\n",
    "students"
   ]
  },
  {
   "cell_type": "code",
   "execution_count": null,
   "metadata": {},
   "outputs": [],
   "source": []
  }
 ],
 "metadata": {
  "kernelspec": {
   "display_name": "Python 3",
   "language": "python",
   "name": "python3"
  },
  "language_info": {
   "codemirror_mode": {
    "name": "ipython",
    "version": 3
   },
   "file_extension": ".py",
   "mimetype": "text/x-python",
   "name": "python",
   "nbconvert_exporter": "python",
   "pygments_lexer": "ipython3",
   "version": "3.7.4"
  }
 },
 "nbformat": 4,
 "nbformat_minor": 2
}

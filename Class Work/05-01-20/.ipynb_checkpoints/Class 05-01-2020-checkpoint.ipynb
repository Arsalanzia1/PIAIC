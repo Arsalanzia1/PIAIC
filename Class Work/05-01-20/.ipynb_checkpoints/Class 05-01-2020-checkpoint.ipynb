{
 "cells": [
  {
   "cell_type": "markdown",
   "metadata": {},
   "source": [
    "## Topic"
   ]
  },
  {
   "cell_type": "markdown",
   "metadata": {},
   "source": [
    "* Class\n",
    "* Instance\n",
    "* Method\n",
    "* Attributes/properties\n",
    "* Class Variable\n",
    "* Instance Variable\n",
    "\n"
   ]
  },
  {
   "cell_type": "markdown",
   "metadata": {},
   "source": [
    "## OOP (Object Oriented Programing)"
   ]
  },
  {
   "cell_type": "markdown",
   "metadata": {},
   "source": [
    "* inheritance\n",
    "* Encupsolation\n",
    "* Abstraction\n",
    "* Ploymorphisim"
   ]
  },
  {
   "cell_type": "code",
   "execution_count": null,
   "metadata": {},
   "outputs": [],
   "source": [
    "s1name = \"A\"\n",
    "\n",
    "s1fname = \"AF\"\n",
    "\n",
    "s1age = 20\n",
    "\n",
    "def s1login(): pass\n",
    "def s1logout(): pass\n",
    "def s1quiz(): pass\n",
    "\n",
    "s1name = \"B\"\n",
    "\n",
    "s1fname = \"BF\"\n",
    "\n",
    "s1age = 20\n",
    "\n",
    "def s1login(): pass\n",
    "def s1logout(): pass\n",
    "def s1quiz(): pass\n"
   ]
  },
  {
   "cell_type": "code",
   "execution_count": null,
   "metadata": {},
   "outputs": [],
   "source": [
    "class Students(): #class\n",
    "    pass\n",
    "\n",
    "s1 = student()   #instance/object #call constructor\n"
   ]
  },
  {
   "cell_type": "markdown",
   "metadata": {},
   "source": [
    "## Methods and Attributes"
   ]
  },
  {
   "cell_type": "code",
   "execution_count": 16,
   "metadata": {},
   "outputs": [
    {
     "ename": "NameError",
     "evalue": "name 's1' is not defined",
     "output_type": "error",
     "traceback": [
      "\u001b[1;31m---------------------------------------------------------------------------\u001b[0m",
      "\u001b[1;31mNameError\u001b[0m                                 Traceback (most recent call last)",
      "\u001b[1;32m<ipython-input-16-fb510c415a8d>\u001b[0m in \u001b[0;36m<module>\u001b[1;34m\u001b[0m\n\u001b[0;32m     19\u001b[0m \u001b[1;33m\u001b[0m\u001b[0m\n\u001b[0;32m     20\u001b[0m \u001b[1;33m\u001b[0m\u001b[0m\n\u001b[1;32m---> 21\u001b[1;33m \u001b[0mprint\u001b[0m\u001b[1;33m(\u001b[0m\u001b[0ms1\u001b[0m\u001b[1;33m.\u001b[0m\u001b[0msid\u001b[0m\u001b[1;33m,\u001b[0m \u001b[0ms2\u001b[0m\u001b[1;33m.\u001b[0m\u001b[0msid\u001b[0m\u001b[1;33m,\u001b[0m \u001b[0ms3\u001b[0m\u001b[1;33m.\u001b[0m\u001b[0msid\u001b[0m\u001b[1;33m,\u001b[0m \u001b[0msep\u001b[0m\u001b[1;33m=\u001b[0m\u001b[1;34m\"\\n\"\u001b[0m\u001b[1;33m)\u001b[0m\u001b[1;33m\u001b[0m\u001b[1;33m\u001b[0m\u001b[0m\n\u001b[0m\u001b[0;32m     22\u001b[0m \u001b[1;33m\u001b[0m\u001b[0m\n\u001b[0;32m     23\u001b[0m \u001b[1;33m\u001b[0m\u001b[0m\n",
      "\u001b[1;31mNameError\u001b[0m: name 's1' is not defined"
     ]
    }
   ],
   "source": [
    "class student():\n",
    "    \n",
    "    def __init__(self): #constructor\n",
    "        self.sid = sid #attributes/properties/Datamembers\n",
    "        self.name =\"\"\n",
    "        self.fnames=\"\"\n",
    "        self.DOB = 0\n",
    "        Student.counter += 1\n",
    "        \n",
    "    def login(self, user, password):\n",
    "        print(\"Welcome\", self.name)\n",
    "        \n",
    "    def logout(self):\n",
    "        print(\"Logout!\")\n",
    "        \n",
    "        s1 = Student(1)\n",
    "        s2 = Student(2)\n",
    "        s3 = Student(3)\n",
    "        \n",
    "        \n",
    "print(s1.sid, s2.sid, s3.sid, sep=\"\\n\")\n",
    "    \n",
    "    "
   ]
  },
  {
   "cell_type": "markdown",
   "metadata": {},
   "source": [
    "## inheritance"
   ]
  },
  {
   "cell_type": "code",
   "execution_count": 18,
   "metadata": {},
   "outputs": [
    {
     "name": "stdout",
     "output_type": "stream",
     "text": [
      "Brown\n"
     ]
    }
   ],
   "source": [
    "class Parent():\n",
    "    def __init__(self):\n",
    "        self.name = \"PN\"\n",
    "        self.id = 0\n",
    "        self.eye_color = \"Brown\"\n",
    "        \n",
    "    def speak(self):\n",
    "        print(\"Parent Speaking..\")\n",
    "        \n",
    "    def eat(self):\n",
    "        print(\"Eating food...\")\n",
    "        \n",
    "class Child(Parent):\n",
    "    pass\n",
    "\n",
    "p1 = Parent()\n",
    "print(p1.eye_color)\n",
    "\n",
    "c1 = Child()\n",
    "\n",
    "        "
   ]
  },
  {
   "cell_type": "code",
   "execution_count": 23,
   "metadata": {},
   "outputs": [
    {
     "data": {
      "text/plain": [
       "'red'"
      ]
     },
     "execution_count": 23,
     "metadata": {},
     "output_type": "execute_result"
    }
   ],
   "source": [
    "class Father():\n",
    "    def __init__(self):\n",
    "        self.eye_color = \"red\"\n",
    "        self.face_color = \"White\"\n",
    "        self.hair_color = \"Black\"\n",
    "    def speak(self): print(\"Fatherspeaking\")\n",
    "    def eat(self): print(\"Fathereating\")\n",
    "        \n",
    "class Mother():\n",
    "    def __init__(self):\n",
    "        self.eye_color = \"red\"\n",
    "        self.face_color = \"White\"\n",
    "        self.hair_color = \"Black\"\n",
    "    def speak(self): print(\"Motherspeaking\")\n",
    "    def eat(self): print(\"Mothereating\")\n",
    "        \n",
    "class Child(Father, Mother):\n",
    "    pass\n",
    "c1 = Child()\n",
    "c1.eye_color"
   ]
  },
  {
   "cell_type": "code",
   "execution_count": 21,
   "metadata": {},
   "outputs": [
    {
     "name": "stdout",
     "output_type": "stream",
     "text": [
      "Eating food...\n"
     ]
    }
   ],
   "source": [
    "c1.eat()"
   ]
  },
  {
   "cell_type": "code",
   "execution_count": null,
   "metadata": {},
   "outputs": [],
   "source": [
    "class Employee():\n",
    "    def __init__(self, id, name, salary):\n",
    "        self.id = id\n",
    "        self.name = name\n",
    "        self.salary\n",
    "        \n",
    "class Developer(Employee):\n",
    "    def __init__(self, id, name, salary, desognation):\n",
    "        super().__init__(self)"
   ]
  },
  {
   "cell_type": "markdown",
   "metadata": {},
   "source": [
    "## Ploymorphism\n",
    "\n",
    "## Overloading"
   ]
  },
  {
   "cell_type": "code",
   "execution_count": 28,
   "metadata": {},
   "outputs": [
    {
     "ename": "NameError",
     "evalue": "name 'obj1' is not defined",
     "output_type": "error",
     "traceback": [
      "\u001b[1;31m---------------------------------------------------------------------------\u001b[0m",
      "\u001b[1;31mNameError\u001b[0m                                 Traceback (most recent call last)",
      "\u001b[1;32m<ipython-input-28-6a1d29c77c28>\u001b[0m in \u001b[0;36m<module>\u001b[1;34m\u001b[0m\n\u001b[0;32m      3\u001b[0m         \u001b[0mprint\u001b[0m\u001b[1;33m(\u001b[0m\u001b[0msum\u001b[0m\u001b[1;33m(\u001b[0m\u001b[0mn\u001b[0m\u001b[1;33m)\u001b[0m\u001b[1;33m)\u001b[0m\u001b[1;33m\u001b[0m\u001b[1;33m\u001b[0m\u001b[0m\n\u001b[0;32m      4\u001b[0m \u001b[1;33m\u001b[0m\u001b[0m\n\u001b[1;32m----> 5\u001b[1;33m \u001b[0mobj1\u001b[0m\u001b[1;33m.\u001b[0m\u001b[0mabc\u001b[0m\u001b[1;33m(\u001b[0m\u001b[1;34m\"5.8.2\"\u001b[0m\u001b[1;33m)\u001b[0m\u001b[1;33m\u001b[0m\u001b[1;33m\u001b[0m\u001b[0m\n\u001b[0m",
      "\u001b[1;31mNameError\u001b[0m: name 'obj1' is not defined"
     ]
    }
   ],
   "source": [
    "class A():\n",
    "    def abc(self, *n):\n",
    "        print(sum(n))\n",
    "    \n",
    "obj1.abc(\"5.8.2\")\n"
   ]
  },
  {
   "cell_type": "markdown",
   "metadata": {},
   "source": [
    "## Over Riding"
   ]
  },
  {
   "cell_type": "code",
   "execution_count": 29,
   "metadata": {},
   "outputs": [
    {
     "name": "stdout",
     "output_type": "stream",
     "text": [
      "ba2\n"
     ]
    }
   ],
   "source": [
    "class A():\n",
    "    def a1(self):print(\"Aa1\")\n",
    "    def a2(self):print(\"Aa2\")\n",
    "        \n",
    "class B(A):\n",
    "    def a2(self):print(\"ba2\")\n",
    "        \n",
    "obj1 = B()\n",
    "obj1.a2()\n"
   ]
  },
  {
   "cell_type": "markdown",
   "metadata": {},
   "source": [
    "# encapsulation"
   ]
  },
  {
   "cell_type": "code",
   "execution_count": 2,
   "metadata": {},
   "outputs": [],
   "source": [
    "class A():\n",
    "    def __init__(self, name, age):\n",
    "        self.__sname = name\n",
    "        self.__age = age\n",
    "        "
   ]
  },
  {
   "cell_type": "code",
   "execution_count": 3,
   "metadata": {},
   "outputs": [],
   "source": [
    "obj1 = A(\"Asif\", 25)"
   ]
  },
  {
   "cell_type": "code",
   "execution_count": 4,
   "metadata": {
    "scrolled": true
   },
   "outputs": [
    {
     "ename": "AttributeError",
     "evalue": "'A' object has no attribute 'name'",
     "output_type": "error",
     "traceback": [
      "\u001b[1;31m---------------------------------------------------------------------------\u001b[0m",
      "\u001b[1;31mAttributeError\u001b[0m                            Traceback (most recent call last)",
      "\u001b[1;32m<ipython-input-4-5155cb2773b4>\u001b[0m in \u001b[0;36m<module>\u001b[1;34m\u001b[0m\n\u001b[1;32m----> 1\u001b[1;33m \u001b[0mobj1\u001b[0m\u001b[1;33m.\u001b[0m\u001b[0mname\u001b[0m\u001b[1;33m\u001b[0m\u001b[1;33m\u001b[0m\u001b[0m\n\u001b[0m",
      "\u001b[1;31mAttributeError\u001b[0m: 'A' object has no attribute 'name'"
     ]
    }
   ],
   "source": [
    "obj1.name"
   ]
  },
  {
   "cell_type": "code",
   "execution_count": 5,
   "metadata": {
    "scrolled": true
   },
   "outputs": [
    {
     "ename": "AttributeError",
     "evalue": "'A' object has no attribute '__sname'",
     "output_type": "error",
     "traceback": [
      "\u001b[1;31m---------------------------------------------------------------------------\u001b[0m",
      "\u001b[1;31mAttributeError\u001b[0m                            Traceback (most recent call last)",
      "\u001b[1;32m<ipython-input-5-fa8f2de7df4a>\u001b[0m in \u001b[0;36m<module>\u001b[1;34m\u001b[0m\n\u001b[1;32m----> 1\u001b[1;33m \u001b[0mobj1\u001b[0m\u001b[1;33m.\u001b[0m\u001b[0m__sname\u001b[0m\u001b[1;33m\u001b[0m\u001b[1;33m\u001b[0m\u001b[0m\n\u001b[0m",
      "\u001b[1;31mAttributeError\u001b[0m: 'A' object has no attribute '__sname'"
     ]
    }
   ],
   "source": [
    "obj1.__sname"
   ]
  },
  {
   "cell_type": "code",
   "execution_count": 7,
   "metadata": {},
   "outputs": [
    {
     "data": {
      "text/plain": [
       "'Asif'"
      ]
     },
     "execution_count": 7,
     "metadata": {},
     "output_type": "execute_result"
    }
   ],
   "source": [
    "obj1._A__sname"
   ]
  },
  {
   "cell_type": "code",
   "execution_count": 8,
   "metadata": {},
   "outputs": [],
   "source": [
    "class A():\n",
    "    def __init__(self, name, age):\n",
    "        self.__sname = name\n",
    "        self.__age = age\n",
    "    \n",
    "    def display(self):\n",
    "        print(\"Name: \", self.__sname)\n",
    "        print(\"Name: \", self.__age)\n",
    "        \n",
    "    def change(self,a,b):\n",
    "        self.__sname = a\n",
    "        self.__age = b\n",
    "        \n",
    "    \n",
    "\n",
    "s1 = A(\"Asif\", 30)\n",
    "s2 = A(\"Hamza\", 26)\n"
   ]
  },
  {
   "cell_type": "code",
   "execution_count": 9,
   "metadata": {},
   "outputs": [
    {
     "name": "stdout",
     "output_type": "stream",
     "text": [
      "Name:  Asif\n",
      "Name:  30\n"
     ]
    }
   ],
   "source": [
    "s1.display()\n"
   ]
  },
  {
   "cell_type": "code",
   "execution_count": 11,
   "metadata": {},
   "outputs": [
    {
     "name": "stdout",
     "output_type": "stream",
     "text": [
      "Name:  Arsalan\n",
      "Name:  28\n"
     ]
    }
   ],
   "source": [
    "s1.change(\"Arsalan\", 28)\n",
    "s1.display()"
   ]
  },
  {
   "cell_type": "code",
   "execution_count": 12,
   "metadata": {},
   "outputs": [
    {
     "name": "stdout",
     "output_type": "stream",
     "text": [
      "Name:  Asif\n",
      "Name:  27\n"
     ]
    }
   ],
   "source": [
    "class A():\n",
    "    def __init__(self, name, age):\n",
    "        self.__sname = name\n",
    "        self.__age = age\n",
    "    \n",
    "    def display(self):\n",
    "        print(\"Name: \", self.__sname)\n",
    "        print(\"Name: \", self.__age)\n",
    "        \n",
    "    def change(self,a,b):\n",
    "        self.__sname = a\n",
    "        self.__age = b\n",
    "    def __abc(self):\n",
    "        print(\"Secure code running on back end\")\n",
    "    \n",
    "\n",
    "s1 = A(\"Asif\", 27)\n",
    "s1.display()\n",
    "\n"
   ]
  },
  {
   "cell_type": "markdown",
   "metadata": {},
   "source": [
    "# Abstract Class"
   ]
  },
  {
   "cell_type": "code",
   "execution_count": 15,
   "metadata": {},
   "outputs": [],
   "source": [
    "class A:\n",
    "    def __init__(self, name , age):\n",
    "        self.sname = name\n",
    "        self.age = age\n",
    "    def dis (self): print(\"Hello World!\")\n",
    "class B(A):\n",
    "    pass\n",
    "obj1 = A(\"A\",1)\n",
    "obj2 = B(\"B\",2)"
   ]
  },
  {
   "cell_type": "code",
   "execution_count": 16,
   "metadata": {},
   "outputs": [
    {
     "name": "stdout",
     "output_type": "stream",
     "text": [
      "B A\n"
     ]
    }
   ],
   "source": [
    "print(obj2.sname, obj1.sname)"
   ]
  },
  {
   "cell_type": "code",
   "execution_count": 20,
   "metadata": {},
   "outputs": [],
   "source": [
    "from abc import ABC, abstractmethod\n",
    "\n",
    "class Human(ABC): # Abstractclass\n",
    "    def __init__(self): \n",
    "        self.sname = None\n",
    "        self.age = None\n",
    "    \n",
    "    @abstractmethod\n",
    "    def eat (self, food):\n",
    "        print(food)\n",
    "class Male(Human):\n",
    "    def __init__(self, n, a):\n",
    "        self.name = n\n",
    "        self.age = a\n"
   ]
  },
  {
   "cell_type": "code",
   "execution_count": 21,
   "metadata": {},
   "outputs": [
    {
     "ename": "TypeError",
     "evalue": "Can't instantiate abstract class Human with abstract methods eat",
     "output_type": "error",
     "traceback": [
      "\u001b[1;31m---------------------------------------------------------------------------\u001b[0m",
      "\u001b[1;31mTypeError\u001b[0m                                 Traceback (most recent call last)",
      "\u001b[1;32m<ipython-input-21-665979cd1f3c>\u001b[0m in \u001b[0;36m<module>\u001b[1;34m\u001b[0m\n\u001b[1;32m----> 1\u001b[1;33m \u001b[0mh1\u001b[0m \u001b[1;33m=\u001b[0m \u001b[0mHuman\u001b[0m\u001b[1;33m(\u001b[0m\u001b[1;33m)\u001b[0m\u001b[1;33m\u001b[0m\u001b[1;33m\u001b[0m\u001b[0m\n\u001b[0m",
      "\u001b[1;31mTypeError\u001b[0m: Can't instantiate abstract class Human with abstract methods eat"
     ]
    }
   ],
   "source": [
    "h1 = Human()"
   ]
  },
  {
   "cell_type": "markdown",
   "metadata": {},
   "source": [
    "# Example"
   ]
  },
  {
   "cell_type": "code",
   "execution_count": 22,
   "metadata": {},
   "outputs": [
    {
     "name": "stdout",
     "output_type": "stream",
     "text": [
      "Brown\n"
     ]
    }
   ],
   "source": [
    "class Parent():\n",
    "    def __init__(self):\n",
    "        self.name = \"PN\"\n",
    "        self.id = 0\n",
    "        self.eye_color = \"Brown\"\n",
    "        \n",
    "    def speak(self):\n",
    "        print(\"Parent Speaking..\")\n",
    "        \n",
    "    def eat(self):\n",
    "        print(\"Eating food...\")\n",
    "        \n",
    "class Child(Parent):\n",
    "    pass\n",
    "\n",
    "p1 = Parent()\n",
    "print(p1.eye_color)\n",
    "\n",
    "c1 = Child()"
   ]
  },
  {
   "cell_type": "code",
   "execution_count": null,
   "metadata": {},
   "outputs": [],
   "source": []
  }
 ],
 "metadata": {
  "kernelspec": {
   "display_name": "Python 3",
   "language": "python",
   "name": "python3"
  },
  "language_info": {
   "codemirror_mode": {
    "name": "ipython",
    "version": 3
   },
   "file_extension": ".py",
   "mimetype": "text/x-python",
   "name": "python",
   "nbconvert_exporter": "python",
   "pygments_lexer": "ipython3",
   "version": "3.7.3"
  }
 },
 "nbformat": 4,
 "nbformat_minor": 2
}
